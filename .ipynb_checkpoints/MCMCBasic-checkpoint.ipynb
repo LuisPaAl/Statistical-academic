{
 "cells": [
  {
   "cell_type": "code",
   "execution_count": 1,
   "metadata": {},
   "outputs": [],
   "source": [
    "'''The neccesary packages for our MCMC code'''\n",
    "\n",
    "import matplotlib.pyplot as plt\n",
    "import numpy as np\n",
    "import scipy.stats as st"
   ]
  },
  {
   "cell_type": "code",
   "execution_count": null,
   "metadata": {},
   "outputs": [],
   "source": [
    "'''Calculate the posterior'''\n",
    "def target(lik, prior, param, theta):\n",
    "    if theta < 0 or theta > 1:\n",
    "        return 0\n",
    "    else:\n",
    "        return lik(param[0], theta).pmf(param[1])*prior.pdf(theta)"
   ]
  },
  {
   "cell_type": "code",
   "execution_count": null,
   "metadata": {},
   "outputs": [],
   "source": [
    "param = 14,10 #our initial data: 14 tries and 10 heads\n",
    "a = 1 #Params for the beta function\n",
    "b = 1 \n",
    "\n",
    "lik = st.binom #Our likelihood\n",
    "prior = st.beta(a,b) #Our prior\n",
    "sigma = 0.01 #Standar desviation for the gaussian proposal distribution\n",
    "\n",
    "naccept = 0. #Accepted steps\n",
    "theta = 0.1 #Our guest for p\n",
    "\n",
    "niters = 100000 #How many iterations we want to do\n",
    "samples = np.zeros(niters+1)\n",
    "samples[0] = theta\n",
    "\n",
    "for i in range(niters):\n",
    "    theta_p = theta + st.norm(0, sigma).rvs() \n",
    "    rho = min(1, target(lik, prior, param, theta_p)/target(lik, prior, param, theta))\n",
    "    u = np.random.uniform()\n",
    "    '''Metropolis Hasting algorithm'''\n",
    "    if u < rho: \n",
    "        naccept += 1\n",
    "        theta = theta_p\n",
    "    samples[i+1] = theta\n",
    "nmcmc = len(samples)//2\n",
    "print (\"Efficiency = \", naccept/niters)"
   ]
  },
  {
   "cell_type": "code",
   "execution_count": null,
   "metadata": {},
   "outputs": [],
   "source": [
    "'''We can plot our posterior results'''\n",
    "thetas = np.linspace(0, 1, 200)\n",
    "post = st.beta(param[1]+a, param[0]-param[1]+b)\n",
    "ci = post.interval(0.95) #Our confidence interval\n",
    "\n",
    "plt.style.use('ggplot') #It is only for the style of the plot\n",
    "plt.figure(figsize=(12, 9))\n",
    "plt.hist(samples[nmcmc:], 40, histtype='step', normed=True, linewidth=1, label='Distribution of posterior samples');\n",
    "plt.hist(prior.rvs(nmcmc), 40, histtype='step', normed=True, linewidth=1, label='Distribution of prior samples');\n",
    "plt.plot(thetas, post.pdf(thetas), c='red', linestyle='--', alpha=0.5, label='True posterior')\n",
    "plt.axhline(0.3, ci[0], ci[1], c='black', linewidth=2, label='95% CI');\n",
    "plt.xlim([0,1]);\n",
    "plt.legend(loc='best');\n",
    "plt.show()"
   ]
  },
  {
   "cell_type": "code",
   "execution_count": null,
   "metadata": {},
   "outputs": [],
   "source": []
  }
 ],
 "metadata": {
  "kernelspec": {
   "display_name": "Python [default]",
   "language": "python",
   "name": "python2"
  },
  "language_info": {
   "codemirror_mode": {
    "name": "ipython",
    "version": 2
   },
   "file_extension": ".py",
   "mimetype": "text/x-python",
   "name": "python",
   "nbconvert_exporter": "python",
   "pygments_lexer": "ipython2",
   "version": "2.7.4"
  }
 },
 "nbformat": 4,
 "nbformat_minor": 2
}
